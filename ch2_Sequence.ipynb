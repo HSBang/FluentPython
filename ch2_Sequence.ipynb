{
 "cells": [
  {
   "cell_type": "markdown",
   "metadata": {},
   "source": [
    "## 2. 시퀀스\n",
    "<li>컨테이너 시퀀스 : 서로 다른 자료형의 항목을 담을 수 있는 list, tuple, collectoin.deque형\n",
    "<li>균일 시퀀스 : 단 하나의 자료형만 담을 수 있는 str, bytes, bytearray, memoryview, array.array"
   ]
  },
  {
   "cell_type": "markdown",
   "metadata": {},
   "source": [
    "### 2.2 지능형 리스트와 일반 표현식\n",
    "List Comprehension, Generator Expression"
   ]
  },
  {
   "cell_type": "code",
   "execution_count": 1,
   "metadata": {},
   "outputs": [
    {
     "data": {
      "text/plain": [
       "[36, 37, 94, 38, 42]"
      ]
     },
     "execution_count": 1,
     "metadata": {},
     "output_type": "execute_result"
    }
   ],
   "source": [
    "## 예제 2.1 : 문자열에서 유니코드 리스트 만들기 (ver.1)\n",
    "symbols = \"$%^&*\"\n",
    "codes = []\n",
    "\n",
    "for symbol in symbols:\n",
    "    codes.append(ord(symbol)) # https://docs.python.org/3/library/functions.html#ord\n",
    "    \n",
    "codes"
   ]
  },
  {
   "cell_type": "code",
   "execution_count": 2,
   "metadata": {},
   "outputs": [
    {
     "data": {
      "text/plain": [
       "[36, 37, 94, 38, 42]"
      ]
     },
     "execution_count": 2,
     "metadata": {},
     "output_type": "execute_result"
    }
   ],
   "source": [
    "## 예제 2.1 : 문자열에서 유니코드 리스트 만들기 (ver.2)\n",
    "symbols = \"$%^&*\"\n",
    "codes = [ord(symbol) for symbol in symbols]\n",
    "\n",
    "codes"
   ]
  },
  {
   "cell_type": "markdown",
   "metadata": {},
   "source": [
    "※ [ ], { }, ( ) 안에서의 개행은 무시된다. 따라서 줄을 넘기기 위해 역슬래시(\\)를 사용하지 않고도 여러줄에 걸쳐 리스트, 지능형 리스트, 제너레이터 표현식, 딕셔너리를 작성할 수 있다."
   ]
  },
  {
   "cell_type": "code",
   "execution_count": 3,
   "metadata": {},
   "outputs": [
    {
     "name": "stdout",
     "output_type": "stream",
     "text": [
      "x: ABC\n",
      "dummy: [65, 66, 67]\n"
     ]
    }
   ],
   "source": [
    "## 예제 2.2 Python 3에서 부터는 더 이상 메모리를 누수하지 않음\n",
    "x = 'ABC'\n",
    "dummy = [ord(x) for x in x]\n",
    "print('x:', x) # x를 중복사용 했으나 고유한 지역 범위를 갖기 때문에 값이 사라지지 않음\n",
    "print('dummy:', dummy)"
   ]
  },
  {
   "cell_type": "code",
   "execution_count": 4,
   "metadata": {},
   "outputs": [
    {
     "name": "stdout",
     "output_type": "stream",
     "text": [
      "[33, 64, 35, 36, 37, 94, 38, 42, 40, 41]\n",
      "[33, 64, 35, 36, 37, 94, 38, 42, 40, 41]\n"
     ]
    }
   ],
   "source": [
    "## 예제 2.3 지능형 리스트와 맵/필터 구성으로 만든 동일 리스트\n",
    "symbols = \"!@#$%^&*()\"\n",
    "beyond_ascii = [ord(symbol) for symbol in symbols if ord(symbol) < 127]\n",
    "print(beyond_ascii)\n",
    "\n",
    "beyond_ascii = list(filter(lambda c: c < 127, map(ord, symbols)))\n",
    "print(beyond_ascii)"
   ]
  },
  {
   "cell_type": "markdown",
   "metadata": {},
   "source": [
    "#### 2.2.3 데카르트 곱\n",
    "지능형 리스트는 두 개 이상의 반복 가능한 자료형의 데카르크 봄을 나타내는 일련의 리스트를 만들 수 있다."
   ]
  },
  {
   "cell_type": "code",
   "execution_count": 2,
   "metadata": {},
   "outputs": [
    {
     "name": "stdout",
     "output_type": "stream",
     "text": [
      "List comprehension\n",
      "tshirts: [('black', 'S'), ('black', 'M'), ('black', 'L'), ('white', 'S'), ('white', 'M'), ('white', 'L')]\n",
      "For loop\n",
      "('black', 'S')\n",
      "('black', 'M')\n",
      "('black', 'L')\n",
      "('white', 'S')\n",
      "('white', 'M')\n",
      "('white', 'L')\n"
     ]
    }
   ],
   "source": [
    "## 예제 2.4 지능형 리스트를 이용한 데카르트의 곱\n",
    "colors = ['black', 'white']\n",
    "sizes = ['S', 'M', 'L']\n",
    "print(\"List comprehension\")\n",
    "tshirts = [(color, size)\n",
    "           for color in colors\n",
    "           for size in sizes]\n",
    "print(\"tshirts:\", tshirts)\n",
    "\n",
    "print(\"For loop\")\n",
    "for color in colors:\n",
    "    for size in sizes:\n",
    "        print((color, size))"
   ]
  },
  {
   "cell_type": "markdown",
   "metadata": {},
   "source": [
    "#### 2.2.4 제너레이터 표현식\n",
    "튜플, 배열의 시퀀스형을 초기화하려면 지능형 리스트를 사용할 수도 있지만, 다른 생성자에 전달할 리스트를 통째로 만들지 않고 반복자 프로토콜(iterator protocol)을 이용해서 항목을 개별로 생성하는 제너레이터 표현식은 메모리를 더 적게 사용한다."
   ]
  },
  {
   "cell_type": "code",
   "execution_count": 6,
   "metadata": {},
   "outputs": [
    {
     "name": "stdout",
     "output_type": "stream",
     "text": [
      "black S\n",
      "black M\n",
      "black L\n",
      "white S\n",
      "white M\n",
      "white L\n"
     ]
    }
   ],
   "source": [
    "## 예제 2.5 제너레이터 표현식에서 튜플과 배열 초기화하기\n",
    "\n",
    "symbols = \"!@#$%^&*()\"\n",
    "tuple(ord(symbol) for symbol in symbols)\n",
    "\n",
    "import array # https://docs.python.org/3/library/array.html\n",
    "array.array('I', (ord(symbol) for symbol in symbols)) # I는 unsigned int를 의미\n",
    "\n",
    "colors = ['black', 'white']\n",
    "sizes = ['S', 'M', 'L']\n",
    "for tshirt in ('%s %s' % (c, s) for c in colors for s in sizes): # 제너레이터 표현식은 한 번에 하나의 항목을 생성하며, \n",
    "    print(tshirt)                                                # 6개의 티셔츠 종류를 담고 있는 리스트를 만들지 않는다. \n",
    "                                                                 # 따라서 메모리에 유지할 필요가 없는 데이터 생성에 효과적이다."
   ]
  },
  {
   "cell_type": "markdown",
   "metadata": {},
   "source": [
    "### 2.3 튜플은 단순한 불변 리스트가 아님\n",
    "튜플은 불변 리스트로 사용할 수도 있지만 필드명이 없는 레코드로 사용할 수도 있다. \n",
    "\n",
    "#### 2.3.1 레코드로서의 튜플\n",
    "튜플은 레코드를 담고 있다. 튜플의 각 항목은 레코드의 필드 하나를 의미하며 항목의 위차가 의미를 결정한다. 튜플을 단지 불변 리스트로 생각한다면 경우에 따라 항목의 크기와 순서가 중요할 수도 있고 그렇지 않을 수도 있다. 그러나 튜플을 필드의 집합으로 사용하는 경우에는 항목 수가 고정되어 있고 항목의 순서가 중요하다."
   ]
  },
  {
   "cell_type": "code",
   "execution_count": 4,
   "metadata": {},
   "outputs": [
    {
     "name": "stdout",
     "output_type": "stream",
     "text": [
      "BRA/CE342567\n",
      "ESP/XDA205856\n",
      "USA/31195855\n"
     ]
    }
   ],
   "source": [
    "# 예제 2-7. 레코드로 사용된 튜플\n",
    "lax_coordinates = (33.9425, -118.408056) # 로스앤젤레스 국제공항의 위도와 경도\n",
    "city, year, pop, chg, area = ('Tokyo', 2003, 32450, 0.66, 8014) # 지명, 년도, 백만 단위 인구수, 인구 변화율, 제곱킬로미터 단위 면적\n",
    "traveler_ids = [('USA', '31195855'), ('BRA', 'CE342567'), ('ESP', 'XDA205856')] # 국가코드, 여권번호\n",
    "for passport in sorted(traveler_ids): \n",
    "    print('%s/%s' % passport) # 튜플을 이해하고 각 항목을 하나의 필드로 처리"
   ]
  },
  {
   "cell_type": "code",
   "execution_count": 5,
   "metadata": {},
   "outputs": [
    {
     "name": "stdout",
     "output_type": "stream",
     "text": [
      "USA\n",
      "BRA\n",
      "ESP\n"
     ]
    }
   ],
   "source": [
    "for country, _ in traveler_ids:\n",
    "    print(country)"
   ]
  },
  {
   "cell_type": "markdown",
   "metadata": {},
   "source": [
    "#### 2.3.2 튜플 언패킹\n",
    "parallel assignment(병렬 할당)은 반복형 데이터를 변수로 구성된 튜플에 할당하는 것을 의미한다. "
   ]
  },
  {
   "cell_type": "code",
   "execution_count": 8,
   "metadata": {},
   "outputs": [
    {
     "name": "stdout",
     "output_type": "stream",
     "text": [
      "3 4\n"
     ]
    }
   ],
   "source": [
    "# 임시 변수를 사용하지 않고도 두 변수의 값을 서로 교환\n",
    "a = 4\n",
    "b = 3\n",
    "\n",
    "b, a = a, b\n",
    "\n",
    "print(a, b)"
   ]
  },
  {
   "cell_type": "code",
   "execution_count": 10,
   "metadata": {
    "scrolled": true
   },
   "outputs": [
    {
     "name": "stdout",
     "output_type": "stream",
     "text": [
      "1 (2, 4)\n",
      "2 (2, 4)\n",
      "3 2\n",
      "4 4\n"
     ]
    },
    {
     "data": {
      "text/plain": [
       "(2, 4)"
      ]
     },
     "execution_count": 10,
     "metadata": {},
     "output_type": "execute_result"
    }
   ],
   "source": [
    "# *를 붙여 튜플을 언패킹 할 수 있음\n",
    "print('1', divmod(20, 8)) # 20을 8로 나누면 몫은 2에 나머지는 4\n",
    "\n",
    "t = (20, 8)\n",
    "print('2', divmod(*t)) # divmod는 2개의 파라미터를 명시해야하나 '*t'로 설정하여 t의 20, 8가 파라미터로 언패킹되어 적용됨\n",
    "\n",
    "quotient, remainder = divmod(*t) # 언패킹\n",
    "print('3', quotient)\n",
    "print('4', remainder)\n",
    "\n",
    "quotient, remainder"
   ]
  },
  {
   "cell_type": "code",
   "execution_count": 11,
   "metadata": {},
   "outputs": [
    {
     "name": "stdout",
     "output_type": "stream",
     "text": [
      "0 1 [2, 3, 4]\n",
      "0 1 [2]\n",
      "0 1 []\n"
     ]
    }
   ],
   "source": [
    "# 일부 항목에만 관심이 있는 경우\n",
    "a, b, *rest = range(5)\n",
    "print(a, b, rest)\n",
    "a, b, *rest = range(3)\n",
    "print(a, b, rest)\n",
    "a, b, *rest = range(2)\n",
    "print(a, b, rest)"
   ]
  },
  {
   "cell_type": "code",
   "execution_count": 12,
   "metadata": {},
   "outputs": [
    {
     "name": "stdout",
     "output_type": "stream",
     "text": [
      "0 [1, 2] 3 4\n",
      "[0, 1] 2 3 4\n"
     ]
    }
   ],
   "source": [
    "# 병렬 할당의 경우 *는 단 하나의 변수에만 적용 가능\n",
    "a, *body, c, d = range(5)\n",
    "print(a, body, c, d)\n",
    "*head, b, c, d = range(5)\n",
    "print(head, b, c, d)"
   ]
  },
  {
   "cell_type": "markdown",
   "metadata": {},
   "source": [
    "#### 2.3.3 내포된 튜플 언패킹\n",
    "언패킹할 표현식을 받는 튜플은 (a,b,(c,d))처럼 다른 튜플을 내포할 수 있으며, 파이썬은 표현식이 내포된 구조체와 일치하면 제대로 처리한다."
   ]
  },
  {
   "cell_type": "code",
   "execution_count": 13,
   "metadata": {},
   "outputs": [
    {
     "name": "stdout",
     "output_type": "stream",
     "text": [
      "                |   lat.    |   long.  \n",
      "Mexico City     |   19.4333 |  -99.1333\n",
      "New York-Newark |   40.8086 |  -74.0204\n",
      "Sao Paulo       |  -23.5478 |  -46.6358\n"
     ]
    }
   ],
   "source": [
    "metro_areas = [\n",
    "    ('Tokyo', 'JP', 36.933, (35.689722, 139.691667)),\n",
    "    ('Delhi NCR', 'IN', 21.935, (28.613889, 77.208889)),\n",
    "    ('Mexico City', 'MX', 20.142, (19.433333, -99.133333)),\n",
    "    ('New York-Newark', 'US', 20.104, (40.808611, -74.020386)),\n",
    "    ('Sao Paulo', 'BR', 19.649, (-23.547778, -46.635833))\n",
    "]\n",
    "\n",
    "print('{:15} | {:^9} | {:^9}'.format('', 'lat.', 'long.')) # 컬럼명 출력\n",
    "fmt = '{:15} | {:9.4f} | {:9.4f}'\n",
    "\n",
    "for name, cc, pop, (latitude, longitude) in metro_areas: \n",
    "    if longitude <= 0: # 경도가 음수인 서반구 도시만 출력\n",
    "        print(fmt.format(name, latitude, longitude)) # 데이터 출력"
   ]
  },
  {
   "cell_type": "markdown",
   "metadata": {},
   "source": [
    "#### 2.3.4 명명된 튜플\n",
    "레코드로 사용 중 필드에 이름을 붙일 필요가 있기 때문에 namedtuple( ) 함수가 고안되었다. 필드명이 클래스에 저장되므로 namedtuple( )로 생성한 객체는 튜플과 동일한 크기의 메모리만 사용한다. 속성을 객체마다 존재하는 \\_\\_dict\\_\\_ 에 저장하지 않으므로 일반적인 객체보다 메모리를 적게 사용한다. "
   ]
  },
  {
   "cell_type": "code",
   "execution_count": 15,
   "metadata": {},
   "outputs": [
    {
     "name": "stdout",
     "output_type": "stream",
     "text": [
      "City(name='Tokyo', country='JP', population=36.933, coordinates=(35.689722, 139.691667))\n",
      "36.933\n",
      "(35.689722, 139.691667)\n",
      "JP\n"
     ]
    }
   ],
   "source": [
    "#예제 2-9 명명된 튜플형을 정의하고 사용하기\n",
    "from collections import namedtuple\n",
    "City = namedtuple('City', 'name country population coordinates') # 클래스명과 필드명의 리스트 등 총 2개의 매개변수가 필요\n",
    "                                                                 # 필드명의 리스트는 반복형 문자열이나 공백으로 구분된 하나의 문자열을 이용\n",
    "tokyo = City('Tokyo', 'JP', 36.933, (35.689722, 139.691667))\n",
    "print(tokyo)\n",
    "print(tokyo.population)  # 필드명이나 위치를 이용해서 필드에 접근\n",
    "print(tokyo.coordinates)\n",
    "print(tokyo[1])"
   ]
  },
  {
   "cell_type": "code",
   "execution_count": 23,
   "metadata": {},
   "outputs": [
    {
     "name": "stdout",
     "output_type": "stream",
     "text": [
      "('name', 'country', 'population', 'coordinates')\n",
      "OrderedDict([('name', 'Delhi NCR'), ('country', 'IN'), ('population', 21.935), ('coordinates', LatLong(lat=28.613889, long=77.208889))])\n",
      "name: Delhi NCR\n",
      "country: IN\n",
      "population: 21.935\n",
      "coordinates: LatLong(lat=28.613889, long=77.208889)\n",
      "Delhi NCR\n",
      "21.935\n"
     ]
    }
   ],
   "source": [
    "#예제 2-10 명명된 튜플의 속성과 메서드\n",
    "print(City._fields) # 클래스의 필드명을 출력함\n",
    "LatLong = namedtuple('LatLong', 'lat long')\n",
    "delhi_data = ('Delhi NCR', 'IN', 21.935, LatLong(28.613889, 77.208889))\n",
    "delhi = City._make(delhi_data) # 반복 객체로 부터 명명된 튜플을 만듬, City(*delhi_data)와 동일함.\n",
    "print(delhi._asdict()) # collectoins.OrderedDict 객체를 반환\n",
    "\n",
    "for key, value in delhi._asdict().items():\n",
    "    print(key + ':', value)\n",
    "\n",
    "# 개인 코드, 튜플을 이용한 일반적인 필드 처리가 되지 않을까 생각함\n",
    "cityList = list()\n",
    "cityList.append(delhi)\n",
    "cityList.append(delhi)\n",
    "    \n",
    "print(cityList[0].name)\n",
    "print(cityList[0].population)"
   ]
  },
  {
   "cell_type": "markdown",
   "metadata": {},
   "source": [
    "#### 2.3.5 불변 리스트로서의 튜플\n",
    "튜플은 항목을 추가하거나 삭제하는 기능 및 \\_\\_reversed\\_\\_( ) 메서드를 제외하고 리스트가 제공하는 메서드를 모두 지원한다.\n",
    "\n",
    "※ [표 2-1], p73 참조\n",
    "<li> s.__add__(s2), s.__iadd__(s2) : 두 리스트를 연결, iadd는 s2에 저장 </li> \n",
    "<li> s.clear() : 모든 항목을 삭제 </li> \n",
    "<li> s.__contains__(e) : e in s </li> \n",
    "<li> s.count(e) : e가 발생한 횟수 </li> \n",
    "<li> s.copy() : 얕은 복사 </li> \n",
    "<li> s.__delitem__(p) : p 위치의 요소를 삭제 </li> \n",
    "<li> s.extend(it) : 반복형 it안에 있는 요소를 추가 </li> \n",
    "<li> s.__getitem__(p) : s[p] </li> \n",
    "<li> s.index(e) : s안에 e가 처음 나타나는 위치 </li> \n",
    "<li> s.insert(p, e) : p 위치에 있는 요소 앞에 e 요소를 삽입 </li> \n",
    "<li> s.__len__() : len(s) </li> \n",
    "<li> s.__mul__(n), s.__imul__(n), s.__rmul__(n) : s *=n 문자열을 반복하여 s에 저장, rmul은 역순 저장 </li> \n",
    "<li> 기타 : s.pop([p]), s.remove(e), s.reverse(), s.__reversed__(), s.__setitem__(p, e), s.sort([key], [reverse]) </li> "
   ]
  },
  {
   "cell_type": "markdown",
   "metadata": {},
   "source": [
    "### 2.4  슬라이싱\n",
    "#### 2.4.1 슬라이스와 범위 지정 시에 마지막 항목이 포함되지 않은 이유\n",
    "<li> 세 개의 항목을 생성하는 range(3)이나 my_list[:3] 처럼 중단점만 이용해서 슬라이스나 범위를 지정할 때 길이를 계산하기 쉽다.</li>\n",
    "<li> 시작점과 중단점을 모두 지정할 때도 길이를 계산하기 쉽다. 단지 중단점에서 시작점을 빼면 된다.</li>\n",
    "<li> 다음 예제에서 보는 것처럼, x 인덱스를 기준으로 겹침없이 시퀀스를 분할하기 쉽다. 단지 my_list[:x]와 my_list[x:]로 지정하면 된다.</li>"
   ]
  },
  {
   "cell_type": "code",
   "execution_count": null,
   "metadata": {
    "scrolled": true
   },
   "outputs": [],
   "source": [
    "l = [10, 20, 30, 40, 50, 60]\n",
    "print(l[:2])\n",
    "print(l[2:])\n",
    "print(l[:3])\n",
    "print(l[3:])"
   ]
  },
  {
   "cell_type": "markdown",
   "metadata": {},
   "source": [
    "#### 2.4.2 슬라이스 객체\n",
    "s[a:b:c]는 c 보폭(stride)만큼씩 항목을 건너뛰게 만든다. 보폭이 음수인 경우에는 거슬러 올라가 항목을 반환한다. seq[start:stop:step]을 해석하기 위해 파이썬은 seq.\\__getitem__(slice(start, stop, step))을 호출한다."
   ]
  },
  {
   "cell_type": "markdown",
   "metadata": {},
   "source": [
    "#### 2.4.3 다차원 슬라이싱과 생략 기호\n",
    "<li>a[i, j]를 해석하기 위해 a.__getitem__((i, j))를 호출한다.</li>\n",
    "<li>세 개의 마침표(...)로 표현된 생략 기회는 파이썬 파서에 의해 하나의 토큰으로 인식된다. 이 기호는 Ellipsis 객체의 별명으로 하나의 ellipsis 클래스의 객체이다. 생략 기호 객체는 f(a, ..., z) 처럼 함수의 인수나, a[i, ...] 처럼 슬라이스의 한 부분으로 전달할 수 있다.</li>"
   ]
  },
  {
   "cell_type": "markdown",
   "metadata": {},
   "source": [
    "#### 2.4.4 슬라이스에 할당하기"
   ]
  },
  {
   "cell_type": "code",
   "execution_count": 15,
   "metadata": {},
   "outputs": [
    {
     "name": "stdout",
     "output_type": "stream",
     "text": [
      "[0, 1, 2, 3, 4, 5, 6, 7, 8, 9]\n",
      "[0, 1, 20, 30, 5, 6, 7, 8, 9]\n",
      "[0, 1, 20, 30, 5, 8, 9]\n",
      "[0, 1, 20, 11, 5, 22, 9]\n"
     ]
    },
    {
     "ename": "TypeError",
     "evalue": "can only assign an iterable",
     "output_type": "error",
     "traceback": [
      "\u001b[1;31m---------------------------------------------------------------------------\u001b[0m",
      "\u001b[1;31mTypeError\u001b[0m                                 Traceback (most recent call last)",
      "\u001b[1;32m<ipython-input-15-2cc1d5144f50>\u001b[0m in \u001b[0;36m<module>\u001b[1;34m\u001b[0m\n\u001b[0;32m      7\u001b[0m \u001b[0ml\u001b[0m\u001b[1;33m[\u001b[0m\u001b[1;36m3\u001b[0m\u001b[1;33m:\u001b[0m\u001b[1;33m:\u001b[0m\u001b[1;36m2\u001b[0m\u001b[1;33m]\u001b[0m \u001b[1;33m=\u001b[0m \u001b[1;33m[\u001b[0m\u001b[1;36m11\u001b[0m\u001b[1;33m,\u001b[0m \u001b[1;36m22\u001b[0m\u001b[1;33m]\u001b[0m\u001b[1;33m\u001b[0m\u001b[0m\n\u001b[0;32m      8\u001b[0m \u001b[0mprint\u001b[0m\u001b[1;33m(\u001b[0m\u001b[0ml\u001b[0m\u001b[1;33m)\u001b[0m\u001b[1;33m\u001b[0m\u001b[0m\n\u001b[1;32m----> 9\u001b[1;33m \u001b[0ml\u001b[0m\u001b[1;33m[\u001b[0m\u001b[1;36m2\u001b[0m\u001b[1;33m:\u001b[0m\u001b[1;36m5\u001b[0m\u001b[1;33m]\u001b[0m \u001b[1;33m=\u001b[0m \u001b[1;36m100\u001b[0m \u001b[1;31m# 반복 가능한 객체만 할당 가능\u001b[0m\u001b[1;33m\u001b[0m\u001b[0m\n\u001b[0m",
      "\u001b[1;31mTypeError\u001b[0m: can only assign an iterable"
     ]
    }
   ],
   "source": [
    "l = list(range(10))\n",
    "print(l)\n",
    "l[2:5] = [20, 30]\n",
    "print(l)\n",
    "del l[5:7]\n",
    "print(l)\n",
    "l[3::2] = [11, 22]\n",
    "print(l)\n",
    "l[2:5] = 100 # 반복 가능한 객체만 할당 가능"
   ]
  },
  {
   "cell_type": "code",
   "execution_count": 16,
   "metadata": {},
   "outputs": [
    {
     "name": "stdout",
     "output_type": "stream",
     "text": [
      "[0, 1, 100, 22, 9]\n"
     ]
    }
   ],
   "source": [
    "l[2:5] = [100] # R과 다르므로 주의, component 수가 줄어듬\n",
    "print(l)"
   ]
  },
  {
   "cell_type": "markdown",
   "metadata": {},
   "source": [
    "### 2.5 시퀀스에 덧셈과 곱셈 연산자 사용하기\n",
    "피연산자 두 개가 같은 자료형이어야 하며, 둘 다 변경되지 않고 동일한 자료형의 시퀀스가 새로 만들어진다. "
   ]
  },
  {
   "cell_type": "markdown",
   "metadata": {},
   "source": [
    "#### 2.5.1 리스트의 리스트 만들기\n",
    "내포된 리스트를 가진 리스트를 초기화해야 하는 경우 지능형 리스트를 사용하는 것이 가장 좋다."
   ]
  },
  {
   "cell_type": "code",
   "execution_count": 17,
   "metadata": {},
   "outputs": [
    {
     "name": "stdout",
     "output_type": "stream",
     "text": [
      "1st: [['_', '_', '_'], ['_', '_', '_'], ['_', '_', '_']]\n",
      "2nd: [['_', '_', '_'], ['_', '_', 'X'], ['_', '_', '_']]\n"
     ]
    }
   ],
   "source": [
    "# 예제 2-12 길이가 3인 리스트 3개로 표현한 틱택토 보드\n",
    "board = [['_'] * 3 for _ in range(3)]\n",
    "print('1st:', board)\n",
    "board[1][2] = 'X'\n",
    "print('2nd:', board)\n",
    "\n",
    "# 동일한 코드\n",
    "# board = []\n",
    "# for i in range(3):\n",
    "#     row = ['_'] * 3 # 반복마다 row를 새로 만든다\n",
    "#     board.append(row)"
   ]
  },
  {
   "cell_type": "code",
   "execution_count": 18,
   "metadata": {},
   "outputs": [
    {
     "name": "stdout",
     "output_type": "stream",
     "text": [
      "1st: [['_', '_', '_'], ['_', '_', '_'], ['_', '_', '_']]\n",
      "2nd: [['_', '_', 'X'], ['_', '_', 'X'], ['_', '_', 'X']]\n"
     ]
    }
   ],
   "source": [
    "board = [['_'] * 3] * 3\n",
    "print('1st:', board)\n",
    "board[1][2] = 'X' # 세 개의 행이 모두 동일한 객체를 참조하고 있어 오류가 발생한다.\n",
    "print('2nd:', board)\n",
    "\n",
    "# 동일한 코드\n",
    "# row = ['_'] * 3\n",
    "# board = []\n",
    "# for i in range(3):\n",
    "#     board.append(row)"
   ]
  },
  {
   "cell_type": "markdown",
   "metadata": {},
   "source": [
    "### 2.6 시퀀스의 복합 할당\n",
    "+=, *= 등의 복합 할당 연산자는 첫 번째 피연산자에 따라 상당히 다르게 작동한다. 복합 연산자가 작동하도록 만드는 특수 메서드는 \\_\\_iadd\\_\\_( ), \\_\\_imul\\_\\_( ) 이다. 그러나 구현되어 있지 않다면 \\_\\_add\\_\\_( ), \\_\\_mul_\\_( ) 메서드를 호출한다."
   ]
  },
  {
   "cell_type": "code",
   "execution_count": 20,
   "metadata": {},
   "outputs": [
    {
     "name": "stdout",
     "output_type": "stream",
     "text": [
      "2653347552136\n",
      "2653347552136\n",
      "2653347717408\n",
      "2653348039752\n"
     ]
    }
   ],
   "source": [
    "# 복합 연산자를 가변 시퀀스와 불변 시퀀스에 적용한 예\n",
    "l = [1, 2, 3]\n",
    "print(id(l))\n",
    "l *= 2\n",
    "print(id(l)) # 변함이 없음\n",
    "t = (1, 2, 3)\n",
    "print(id(t))\n",
    "t *= 2\n",
    "print(id(t)) # 튜블은 자신이 변할 수 없는 대신 새로운 개체를 만들어 대응함"
   ]
  },
  {
   "cell_type": "markdown",
   "metadata": {},
   "source": [
    "#### 2.6.1 += 복합 할당 퀴즈\n",
    "VISUALIZE CODE AND GET LIVE HELP : http://www.pythontutor.com/ "
   ]
  },
  {
   "cell_type": "code",
   "execution_count": 21,
   "metadata": {},
   "outputs": [
    {
     "ename": "TypeError",
     "evalue": "'tuple' object does not support item assignment",
     "output_type": "error",
     "traceback": [
      "\u001b[1;31m---------------------------------------------------------------------------\u001b[0m",
      "\u001b[1;31mTypeError\u001b[0m                                 Traceback (most recent call last)",
      "\u001b[1;32m<ipython-input-21-8397d9aafa40>\u001b[0m in \u001b[0;36m<module>\u001b[1;34m\u001b[0m\n\u001b[0;32m      1\u001b[0m \u001b[1;31m# 예상치 못한 결과\u001b[0m\u001b[1;33m\u001b[0m\u001b[1;33m\u001b[0m\u001b[0m\n\u001b[0;32m      2\u001b[0m \u001b[0mt\u001b[0m \u001b[1;33m=\u001b[0m \u001b[1;33m(\u001b[0m\u001b[1;36m1\u001b[0m\u001b[1;33m,\u001b[0m \u001b[1;36m2\u001b[0m\u001b[1;33m,\u001b[0m \u001b[1;33m[\u001b[0m\u001b[1;36m30\u001b[0m\u001b[1;33m,\u001b[0m \u001b[1;36m40\u001b[0m\u001b[1;33m]\u001b[0m\u001b[1;33m)\u001b[0m\u001b[1;33m\u001b[0m\u001b[0m\n\u001b[1;32m----> 3\u001b[1;33m \u001b[0mt\u001b[0m\u001b[1;33m[\u001b[0m\u001b[1;36m2\u001b[0m\u001b[1;33m]\u001b[0m \u001b[1;33m+=\u001b[0m \u001b[1;33m[\u001b[0m\u001b[1;36m50\u001b[0m\u001b[1;33m,\u001b[0m \u001b[1;36m60\u001b[0m\u001b[1;33m]\u001b[0m \u001b[1;31m# t[2].extend([50, 60])\u001b[0m\u001b[1;33m\u001b[0m\u001b[0m\n\u001b[0m",
      "\u001b[1;31mTypeError\u001b[0m: 'tuple' object does not support item assignment"
     ]
    }
   ],
   "source": [
    "# 예상치 못한 결과\n",
    "t = (1, 2, [30, 40])\n",
    "t[2] += [50, 60] # t[2].extend([50, 60])"
   ]
  },
  {
   "cell_type": "code",
   "execution_count": 22,
   "metadata": {},
   "outputs": [
    {
     "data": {
      "text/plain": [
       "(1, 2, [30, 40, 50, 60])"
      ]
     },
     "execution_count": 22,
     "metadata": {},
     "output_type": "execute_result"
    }
   ],
   "source": [
    "t # 에러가 생성됐지만 실행결과에 반영된다."
   ]
  },
  {
   "cell_type": "markdown",
   "metadata": {},
   "source": [
    "교훈\n",
    "<li>가변 항목을 튜플에 넣는 것은 좋은 생각이 아니다.</li>\n",
    "<li>복합 할당은 원자적인 연산이 아니다(앞의 예제에서 일부 연산이 수행된 후 예외가 발생했다).</li>\n",
    "<li>파이썬 바이트코드를 살펴보는 것은 그리 어렵지 않으며, 내부에서 어떤 일이 발생하고 있는지 살펴보는 데 도움이 된다.</li>"
   ]
  },
  {
   "cell_type": "markdown",
   "metadata": {},
   "source": [
    "### 2.7 list.sort()와 sorted() 내장 함수\n",
    "차이점\n",
    "<li> list.sort() 메서드는 사본을 만들지 않고 리스트 내부를 변경해서 정렬한다. 새로운 리스트를 생성하지 않았음을 알려주기 위해 None을 반환한다.(관례)</li>\n",
    "<li> sorted() 내장 함수는 새로운 리스트를 생성해서 반환하기 때문에, 불변 시퀀스 및 제너레이터를 포함해서 반복 가능한 모든 객체를 인수로 받을 수 있다.</li>\n",
    "\n",
    "두 개의 키워드\n",
    "<li>reverse : 이 키워드가 참이면 비교 연산을 반대로 해서 내림차순으로 반환한다. </li>\n",
    "<li>key : 정렬에 사용할 키를 생성하기 위해 각 항목에 적용할 함수를 인수로 받는다. ex) key=str.lower, key=len </li>"
   ]
  },
  {
   "cell_type": "code",
   "execution_count": 24,
   "metadata": {},
   "outputs": [
    {
     "name": "stdout",
     "output_type": "stream",
     "text": [
      "['apple', 'banana', 'grape', 'raspberry']\n",
      "['raspberry', 'grape', 'banana', 'apple']\n",
      "['grape', 'apple', 'banana', 'raspberry']\n",
      "['raspberry', 'banana', 'grape', 'apple']\n",
      "['grape', 'raspberry', 'apple', 'banana']\n"
     ]
    }
   ],
   "source": [
    "fruits = ['grape', 'raspberry', 'apple', 'banana']\n",
    "print(sorted(fruits))\n",
    "print(sorted(fruits, reverse=True))\n",
    "print(sorted(fruits, key=len))\n",
    "print(sorted(fruits, key=len, reverse=True)) # sorted(fruits, key=len)과 정확한 역순은 아님\n",
    "print(fruits) # 새로운 리스트를 생성해서 반환하기 때문에 fruits 값이 변하지 않음"
   ]
  },
  {
   "cell_type": "code",
   "execution_count": 24,
   "metadata": {},
   "outputs": [
    {
     "name": "stdout",
     "output_type": "stream",
     "text": [
      "['apple', 'banana', 'grape', 'raspberry']\n"
     ]
    }
   ],
   "source": [
    "fruits.sort()\n",
    "print(fruits) # fruits 값이 변함"
   ]
  },
  {
   "cell_type": "markdown",
   "metadata": {},
   "source": [
    "### 2.8 정렬된 시퀀스를 bisect로 관리하기\n",
    "bisect 모듈은 bisect( )와 insort( ) 함수를 제공한다. bisect( )는 이진 검색 알고리즘을 이용해서 시퀀스를 검색하고, insort( )는 정렬된 시퀀스 안에 항목을 삽입한다. bisect( )는 bisect_right( )의 별명으로 삽입할 위치의 오른쪽 인덱스를 반환하며, bisect_left( )는 왼쪽 인덱스를 반환한다.\n",
    "\n",
    "insort( )는 bisect(haystack, needle)의 결과값을 인덱스(index)로 사용해서 jaysatck.insert(index, needle)를 호출하는 것과 같지만 더 빨리 처리한다."
   ]
  },
  {
   "cell_type": "code",
   "execution_count": 25,
   "metadata": {},
   "outputs": [
    {
     "name": "stdout",
     "output_type": "stream",
     "text": [
      "DEMO: bisect\n",
      "haystack ->  1  4  5  6  8 12 15 20 21 23 23 26 29 30\n",
      "31 @ 14      |  |  |  |  |  |  |  |  |  |  |  |  |  |31\n",
      "30 @ 14      |  |  |  |  |  |  |  |  |  |  |  |  |  |30\n",
      "29 @ 13      |  |  |  |  |  |  |  |  |  |  |  |  |29\n",
      "23 @ 11      |  |  |  |  |  |  |  |  |  |  |23\n",
      "22 @  9      |  |  |  |  |  |  |  |  |22\n",
      "10 @  5      |  |  |  |  |10\n",
      " 8 @  5      |  |  |  |  |8 \n",
      " 5 @  3      |  |  |5 \n",
      " 2 @  1      |2 \n",
      " 1 @  1      |1 \n",
      " 0 @  0    0 \n",
      "DEMO: bisect_left\n",
      "haystack ->  1  4  5  6  8 12 15 20 21 23 23 26 29 30\n",
      "31 @ 14      |  |  |  |  |  |  |  |  |  |  |  |  |  |31\n",
      "30 @ 13      |  |  |  |  |  |  |  |  |  |  |  |  |30\n",
      "29 @ 12      |  |  |  |  |  |  |  |  |  |  |  |29\n",
      "23 @  9      |  |  |  |  |  |  |  |  |23\n",
      "22 @  9      |  |  |  |  |  |  |  |  |22\n",
      "10 @  5      |  |  |  |  |10\n",
      " 8 @  4      |  |  |  |8 \n",
      " 5 @  2      |  |5 \n",
      " 2 @  1      |2 \n",
      " 1 @  0    1 \n",
      " 0 @  0    0 \n"
     ]
    }
   ],
   "source": [
    "# 예제 2-17 정렬된 시퀀스에서 항목을 추가할 위치를 찾아내는 bisect\n",
    "import bisect\n",
    "import sys\n",
    "\n",
    "HAYSTACK = [1, 4, 5, 6, 8, 12, 15, 20, 21, 23, 23, 26, 29, 30]\n",
    "NEEDLES  = [0, 1, 2, 5, 8, 10, 22, 23, 29, 30, 31]\n",
    "\n",
    "ROW_FMT = '{0:2d} @ {1:2d}    {2}{0:<2d}' # needle을 앞 뒤로 출력함\n",
    "\n",
    "def demo(bisect_fn):\n",
    "    for needle in reversed(NEEDLES):\n",
    "        position = bisect_fn(HAYSTACK, needle)\n",
    "        offset = position * '  |'\n",
    "        print(ROW_FMT.format(needle, position, offset))\n",
    "        \n",
    "if __name__ == '__main__':\n",
    "    bisect_fn = bisect.bisect\n",
    "    print('DEMO:', bisect_fn.__name__)\n",
    "    print('haystack ->', ' '.join('%2d' % n for n in HAYSTACK)) \n",
    "    demo(bisect_fn) # 기존 값과 같은 경우 같은 값 이후 인덱스를 알려줌\n",
    "    \n",
    "    bisect_fn = bisect.bisect_left\n",
    "    print('DEMO:', bisect_fn.__name__)\n",
    "    print('haystack ->', ' '.join('%2d' % n for n in HAYSTACK))\n",
    "    demo(bisect_fn) # 기존 값과 같은 경우 같은 값의 인덱스를 알려줌"
   ]
  },
  {
   "cell_type": "code",
   "execution_count": 26,
   "metadata": {},
   "outputs": [
    {
     "name": "stdout",
     "output_type": "stream",
     "text": [
      "10 -> [10]\n",
      " 0 -> [0, 10]\n",
      " 6 -> [0, 6, 10]\n",
      " 8 -> [0, 6, 8, 10]\n",
      " 7 -> [0, 6, 7, 8, 10]\n",
      " 2 -> [0, 2, 6, 7, 8, 10]\n",
      "10 -> [0, 2, 6, 7, 8, 10, 10]\n"
     ]
    }
   ],
   "source": [
    "import bisect\n",
    "import random\n",
    "\n",
    "SIZE = 7\n",
    "\n",
    "random.seed(1729)\n",
    "\n",
    "my_list = []\n",
    "for i in range(SIZE):\n",
    "    new_item = random.randrange(SIZE*2)\n",
    "    bisect.insort(my_list, new_item)\n",
    "    print('%2d ->' % new_item, my_list)"
   ]
  },
  {
   "cell_type": "markdown",
   "metadata": {},
   "source": [
    "### 2.9 리스트가 답이 아닐 때\n",
    "리스트형이 사용하기 편하므로 파이썬 프로그래머들은 리스트형을 남용하곤 한다. 물론 용통성 있고 사용하기 편하지만, 세부 요구사항에 따라 더 나은 자료형도 있다."
   ]
  },
  {
   "cell_type": "markdown",
   "metadata": {},
   "source": [
    "#### 2.9.1 배열\n",
    "리스트 안에 숫자만 들어 있다면 배열이 리스트보다 훨씬 더 효율적이다. 가변 시퀀스가 pop(), insert(), extend() 등을 포함해서 제공하는 모든 연산을 지원하며, 빠르게 파일에 저장하고 읽어올 수 있는 frombytes()와 tofile() 메서드도 추가로 제공한다. \n",
    "\n",
    "※ array 메서드와 속성은 [표 2-2](p 93) 참조, 파이썬 공식 array 문서 : https://docs.python.org/3/library/array.html\n",
    "<li> s.__add__(s2), s.__iadd__(s2) </li>\n",
    "<li> s.append(e) </li>\n",
    "<li> s.byteswap() </li>\n",
    "<li> s.__contains__(e) </li>\n",
    "<li> s.__copy__(), s.__deepcopy__() </li>\n",
    "<li> s.__delitem__(p) </li>\n",
    "<li> s.extend(it) </li>\n",
    "<li> s.frombytes(b), s.fromfile(b), s.fromlist(b) </li>\n",
    "<li> s.__getitem__(p) </li>\n",
    "<li> s.index(e) </li>\n",
    "<li> s.insert(p, e) </li>\n",
    "<li> s.itemsize </li>\n",
    "<li> s.__iter__(), s.__len__(), s.__mul__(), s.__imul__(), s.__rmul__() </li>\n",
    "<li> s.pop([p]) : p 위치 혹은 제일 마지막 항목을 제거하고 반환 </li>\n",
    "<li> s.remove(e) </li>\n",
    "<li> s.reverse() </li>\n",
    "<li> s.__setitem__(p, e) </li>\n",
    "<li> s.tobytes(), s.tofile(f), s.tolist() </li>\n",
    "<li> s.typecode : 항목의 C 형을 나타내는 한 글자짜리 문자열 </li>\n",
    "\n",
    "<p> NOTE : 객체를 직렬화하는 pickle 모듈도 숫자 데이터를 빠르고 융통성 있게 저장할 수 있다. pickle.dump( ) 메서드는 실수 배열을 array.tofile( ) 메서드만큼 빠르게 저장할 뿐만 아니라 복소수, 내포된 컬렉션, 심지어 사용자 정의 객체 등 거의 모든 내장 자료형을 처리할 수 있다. </p>"
   ]
  },
  {
   "cell_type": "code",
   "execution_count": 27,
   "metadata": {},
   "outputs": [
    {
     "name": "stdout",
     "output_type": "stream",
     "text": [
      "0.5963321947530882\n",
      "0.5963321947530882\n",
      "True\n"
     ]
    }
   ],
   "source": [
    "# 대규모 실수 배열의 생성, 저장, 불러오기\n",
    "from array import array\n",
    "from random import random\n",
    "floats = array('d', (random() for i in range(10**7))) #'d'는 실수 배열을 의미\n",
    "print(floats[-1])\n",
    "\n",
    "fp = open('floats.bin', 'wb') # w : 쓰기, a : 끝에 추가하기, r : 읽기, b : string이 아닌 바이트로 구성함\n",
    "floats.tofile(fp)\n",
    "fp.close()\n",
    "\n",
    "floats2 = array('d')\n",
    "fp = open('floats.bin', 'rb')\n",
    "floats2.fromfile(fp, 10**7)\n",
    "fp.close()\n",
    "print(floats2[-1]) \n",
    "\n",
    "print(floats2 == floats) # 배열의 내용이 일치하는지 확인"
   ]
  },
  {
   "cell_type": "markdown",
   "metadata": {},
   "source": [
    "#### 2.9.2 메모리 뷰\n",
    "파이썬 자체에 들어 있는 NumPy 배열 구조체를 일반화한 것이다. PIL 이미지 SQLLite 데이터베이스, NumPy 배열 등 <b><u>데이터 구조체를 복사하지 않고 메모리를 공유할 수 있기 때문에</u></b> 데이터셋이 커지는 경우 중요한 기법이다."
   ]
  },
  {
   "cell_type": "code",
   "execution_count": 25,
   "metadata": {},
   "outputs": [
    {
     "name": "stdout",
     "output_type": "stream",
     "text": [
      "5\n",
      "-2\n",
      "[254, 255, 255, 255, 0, 0, 1, 0, 2, 0]\n"
     ]
    },
    {
     "data": {
      "text/plain": [
       "array('h', [-2, -1, 1024, 1, 2])"
      ]
     },
     "execution_count": 25,
     "metadata": {},
     "output_type": "execute_result"
    }
   ],
   "source": [
    "import array\n",
    "numbers = array.array('h', [-2, -1, 0, 1, 2])\n",
    "memv = memoryview(numbers)\n",
    "print(len(memv))\n",
    "\n",
    "print(memv[0])\n",
    "\n",
    "memv_oct = memv.cast('B')\n",
    "print(memv_oct.tolist())\n",
    "\n",
    "memv_oct[5] = 4\n",
    "numbers"
   ]
  },
  {
   "cell_type": "markdown",
   "metadata": {},
   "source": [
    "#### 2.9.3 NumPy와 SciPy"
   ]
  },
  {
   "cell_type": "code",
   "execution_count": 26,
   "metadata": {},
   "outputs": [
    {
     "name": "stdout",
     "output_type": "stream",
     "text": [
      "[ 0  1  2  3  4  5  6  7  8  9 10 11]\n",
      "<class 'numpy.ndarray'> \n",
      "\n",
      "[[ 0  1  2  3]\n",
      " [ 4  5  6  7]\n",
      " [ 8  9 10 11]] \n",
      "\n",
      "[ 8  9 10 11]\n",
      "8\n"
     ]
    }
   ],
   "source": [
    "# 예제 2-22 numpy.ndarray에서 행과 열을 이용한 기본 연산\n",
    "import numpy as np\n",
    "a = np.arange(12)\n",
    "print(a)\n",
    "print(type(a), '\\n')\n",
    "\n",
    "a.shape = 3, 4\n",
    "print(a, '\\n')\n",
    "\n",
    "print(a[2])\n",
    "print(a[2, 0])"
   ]
  },
  {
   "cell_type": "code",
   "execution_count": 27,
   "metadata": {},
   "outputs": [
    {
     "name": "stdout",
     "output_type": "stream",
     "text": [
      "[[ 0  4  8]\n",
      " [ 1  5  9]\n",
      " [ 2  6 10]\n",
      " [ 3  7 11]]\n",
      "[[ 0  4  8]\n",
      " [ 1  5  9]\n",
      " [ 2  6 10]\n",
      " [ 3  7 11]]\n"
     ]
    }
   ],
   "source": [
    "print(a.transpose())\n",
    "print(a.T) # transpose( )와 동일"
   ]
  },
  {
   "cell_type": "code",
   "execution_count": 31,
   "metadata": {},
   "outputs": [],
   "source": [
    "## 시간측정 방법\n",
    "# from time import perf_counter as pc\n",
    "# t0 = pc();\n",
    "# # 시간을 측정하고 싶은 코드\n",
    "# pc() - t0;"
   ]
  },
  {
   "cell_type": "markdown",
   "metadata": {},
   "source": [
    "#### 2.9.4 덱 및 기타 큐\n",
    "append( )와 pop( ) 메서드를 사용해서 리스트를 스택이나 큐로 사용할 수 있지만, 리스트 왼쪽 0번에 삽입하거나 삭제하는 연산은 전체 리스트를 이동시켜야 하므로 처리 부담이 크다. 덱(collections.deque) 클래스는 큐의 방향과 관계없이 빠르게 삽입 및 삭제할 수 있도록 설계된 양방향 큐로서 최대 길이를 설정해서 새로운 항목을 추가할 때 반대쪽 항목을 버리도록 설정할 수도 있다.\n",
    "\n",
    "덱은 리스트 메서드 대부분을 구현할 뿐만 아니라(페이지 100~101) popleft(), rotate() 처럼 고유한 메서드를 추가로 가지고 있다. 그렇지만 덱의 중간 항목을 삭제하는 연산은 그리 빠르지 않다. 덱이 양쪽 끝에 추가나 제거하는 연산에 최적화되어 있기 때문이다. "
   ]
  },
  {
   "cell_type": "code",
   "execution_count": 31,
   "metadata": {},
   "outputs": [
    {
     "name": "stdout",
     "output_type": "stream",
     "text": [
      "deque([0, 1, 2, 3, 4, 5, 6, 7, 8, 9], maxlen=10)\n",
      "deque([7, 8, 9, 0, 1, 2, 3, 4, 5, 6], maxlen=10)\n",
      "deque([1, 2, 3, 4, 5, 6, 7, 8, 9, 0], maxlen=10)\n",
      "deque([-1, 1, 2, 3, 4, 5, 6, 7, 8, 9], maxlen=10)\n",
      "deque([3, 4, 5, 6, 7, 8, 9, 11, 22, 33], maxlen=10)\n",
      "deque([40, 30, 20, 10, 3, 4, 5, 6, 7, 8], maxlen=10)\n"
     ]
    }
   ],
   "source": [
    "# 예제 2-23 덱 이용하기\n",
    "from collections import deque\n",
    "dq = deque(range(10), maxlen=10)\n",
    "print(dq)\n",
    "\n",
    "dq.rotate(3) # 양수 인수인 경우 지정한 개수만큼 왼쪽 끝으로,\n",
    "print(dq)    # 음수인 경우에는 오른쪽 끝으로 이동시킴\n",
    "\n",
    "dq.rotate(-4) \n",
    "print(dq)\n",
    "\n",
    "dq.appendleft(-1)\n",
    "print(dq)\n",
    "\n",
    "dq.extend([11, 22, 33]) # 밀려서 사라짐\n",
    "print(dq)\n",
    "\n",
    "dq.extendleft([10, 20, 30, 40]) # 밀려서 사라짐\n",
    "print(dq)"
   ]
  },
  {
   "cell_type": "markdown",
   "metadata": {},
   "source": [
    "기타 큐\n",
    "<li><b>queue</b> 모듈에서는 동기화된 (즉, 스레드 안전한) Queue, LifoQueue, PriorityQueue 클래스를 제공한다. 이 클래스들은 스레드 간에 안전하게 통신하기 위해 사용된다. maxsize 인수를 생성자에 전달해서 바인딩 할 수 있지만, 공간이 꽉 찾을 때 항목을 버리는 것이 아닌 새로운 항목의 추가를 막고 다른 스레드에서 큐 안의 항목을 제거해서 공간을 확보해줄 때까지 대기하는 차이점이 있다. 따라서 활성화된 스레드 수를 조절하기 좋다</li>\n",
    "<li><b>multiprocessing</b> queue.Queue와 비슷하지만 프로세스 간 통신을 지원하기 위해 설계된 고유한 Queue 클래스를 구현한다. 태스크 관리에 특화된 multiprocessing.JoinableQueue 클래스도 제공한다.</li>\n",
    "<li><b>asyncio</b> queue, multiprocessing 와 같이 Queue, LifoQueue, PriorityQueue, JoinableQueue 클래스를 제공하지만, 비동기 프로그래밍 환경에 작업을 관리하는 데 주안점을 두고 있다.</li>\n",
    "<li><b>heapq</b> queue 클래스를 구현하지는 않지만, 가변 시퀀스를 힙 큐나 우선순위 큐로 사용할 수 있게 해주는 heappush(), heappop() 등의 함수를 제공한다.</li>"
   ]
  },
  {
   "cell_type": "markdown",
   "metadata": {},
   "source": [
    "### 2.11 Tips\n",
    "key는 매우 훌륭하다."
   ]
  },
  {
   "cell_type": "code",
   "execution_count": 33,
   "metadata": {},
   "outputs": [
    {
     "name": "stdout",
     "output_type": "stream",
     "text": [
      "[0, '1', 5, 6, '9', 14, 19, '23', 28, '28']\n",
      "[0, '1', 14, 19, '23', 28, '28', 5, 6, '9']\n"
     ]
    }
   ],
   "source": [
    "lst = [28, 14, '28', 5, '9', '1', 0, 6, '23', 19]\n",
    "print(sorted(lst, key=int)) # 숫자처럼 처리\n",
    "print(sorted(lst, key=str)) # 문자처럼 처리"
   ]
  }
 ],
 "metadata": {
  "kernelspec": {
   "display_name": "Python 3",
   "language": "python",
   "name": "python3"
  },
  "language_info": {
   "codemirror_mode": {
    "name": "ipython",
    "version": 3
   },
   "file_extension": ".py",
   "mimetype": "text/x-python",
   "name": "python",
   "nbconvert_exporter": "python",
   "pygments_lexer": "ipython3",
   "version": "3.6.6"
  }
 },
 "nbformat": 4,
 "nbformat_minor": 2
}
